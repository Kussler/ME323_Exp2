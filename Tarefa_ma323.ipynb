{
 "cells": [
  {
   "cell_type": "code",
   "execution_count": 19,
   "metadata": {},
   "outputs": [
    {
     "name": "stdin",
     "output_type": "stream",
     "text": [
      "tamanho da amostra 25\n"
     ]
    },
    {
     "name": "stdout",
     "output_type": "stream",
     "text": [
      "Média: 0.30052000000000034\n",
      "Desvio padrão:  0.0916515138991168\n"
     ]
    }
   ],
   "source": [
    "import random\n",
    "\n",
    "txt = open(\"dados.txt\", \"w\")\n",
    "\n",
    "populacao = []\n",
    "resultado = []\n",
    "p = 0.3\n",
    "m = 10000\n",
    "x = 0\n",
    "\n",
    "for i in range(int(p*m)):\n",
    "    populacao.append(\"A\")\n",
    "for i in range(int((1-p)*m)):\n",
    "    populacao.append(\"B\")\n",
    "\n",
    "n = int(input(\"tamanho da amostra\"))\n",
    "\n",
    "#3) repita os passos 1) e 2) 2000 vezes.\n",
    "for i in range(2000):\n",
    "    total = 0\n",
    "    teste = []\n",
    "    # 1) realize uma amostra aleatória (com ou sem reposição) de tamanho n.\n",
    "    for j in range(n): \n",
    "        teste.append(populacao[int(random.random()*10000//1)])\n",
    "    #2) calcule a proporção amostral de votos no candidato A: \"p chapéu\".\n",
    "    for j in range(n):\n",
    "        if(teste[j] == \"A\"):\n",
    "            total = total +1\n",
    "\n",
    "    total = total/n\n",
    "    resultado.append(total)\n",
    "    #4) faça um gráfico no valores obtidos de \"p chapéu\": histograma ou gráfico como feito na aula.\n",
    "    txt.write(str(total) + \"\\n\")\n",
    "\n",
    "#5) calcule o média dos valores obtidos de \"p chapéu\".   \n",
    "for i in range(2000):\n",
    "    x = x + resultado[i]\n",
    "x = x/2000\n",
    "print(\"Média: \"+ str(x))\n",
    "\n",
    "\n",
    "#6) calcule o desvio padrão dos valores obtidos de \"p chapéu\". (p(1-p)/n)^1/2\n",
    "print(\"Desvio padrão: \", str((p*(1-p)/n)**(1/2))   )\n",
    "\n",
    "txt.close()\n"
   ]
  },
  {
   "cell_type": "code",
   "execution_count": 1,
   "metadata": {},
   "outputs": [
    {
     "name": "stdout",
     "output_type": "stream",
     "text": [
      "2.0\n"
     ]
    }
   ],
   "source": []
  },
  {
   "cell_type": "code",
   "execution_count": null,
   "metadata": {},
   "outputs": [],
   "source": []
  }
 ],
 "metadata": {
  "kernelspec": {
   "display_name": "Python 3",
   "language": "python",
   "name": "python3"
  },
  "language_info": {
   "codemirror_mode": {
    "name": "ipython",
    "version": 3
   },
   "file_extension": ".py",
   "mimetype": "text/x-python",
   "name": "python",
   "nbconvert_exporter": "python",
   "pygments_lexer": "ipython3",
   "version": "3.7.3"
  }
 },
 "nbformat": 4,
 "nbformat_minor": 2
}
